{
 "cells": [
  {
   "cell_type": "code",
   "execution_count": 6,
   "id": "269f03ca-8a90-4253-bd9b-1ee327c50e51",
   "metadata": {},
   "outputs": [
    {
     "name": "stdout",
     "output_type": "stream",
     "text": [
      "The autoreload extension is already loaded. To reload it, use:\n",
      "  %reload_ext autoreload\n"
     ]
    }
   ],
   "source": [
    "%load_ext autoreload\n",
    "%autoreload 2"
   ]
  },
  {
   "cell_type": "code",
   "execution_count": 19,
   "id": "39b80758-14bf-48f4-8dcd-ea1bb722ee5c",
   "metadata": {
    "scrolled": true
   },
   "outputs": [
    {
     "name": "stderr",
     "output_type": "stream",
     "text": [
      "fatal: tag 'v0.1.1' already exists\n"
     ]
    },
    {
     "name": "stdout",
     "output_type": "stream",
     "text": [
      "Obtaining file:///C:/Users/as20q884/OneDrive%20-%20Universitaet%20Bern/Desktop/2024-06-10%20Python%20packaging__on_Desktop/test_package_AS25\n",
      "  Installing build dependencies: started\n",
      "  Installing build dependencies: finished with status 'done'\n",
      "  Checking if build backend supports build_editable: started\n",
      "  Checking if build backend supports build_editable: finished with status 'done'\n",
      "  Getting requirements to build editable: started\n",
      "  Getting requirements to build editable: finished with status 'done'\n",
      "  Installing backend dependencies: started\n",
      "  Installing backend dependencies: finished with status 'done'\n",
      "  Preparing editable metadata (pyproject.toml): started\n",
      "  Preparing editable metadata (pyproject.toml): finished with status 'done'\n",
      "Requirement already satisfied: matplotlib>=3.4.0 in c:\\programdata\\anaconda3\\envs\\mypackaging\\lib\\site-packages (from python-packaging-AS25==0.1.2.dev1+geafd6a7) (3.9.0)\n",
      "Requirement already satisfied: numpy>=1.21.0 in c:\\programdata\\anaconda3\\envs\\mypackaging\\lib\\site-packages (from python-packaging-AS25==0.1.2.dev1+geafd6a7) (1.26.4)\n",
      "Requirement already satisfied: pandas>=1.3.0 in c:\\programdata\\anaconda3\\envs\\mypackaging\\lib\\site-packages (from python-packaging-AS25==0.1.2.dev1+geafd6a7) (2.2.2)\n",
      "Requirement already satisfied: contourpy>=1.0.1 in c:\\programdata\\anaconda3\\envs\\mypackaging\\lib\\site-packages (from matplotlib>=3.4.0->python-packaging-AS25==0.1.2.dev1+geafd6a7) (1.2.1)\n",
      "Requirement already satisfied: cycler>=0.10 in c:\\programdata\\anaconda3\\envs\\mypackaging\\lib\\site-packages (from matplotlib>=3.4.0->python-packaging-AS25==0.1.2.dev1+geafd6a7) (0.12.1)\n",
      "Requirement already satisfied: fonttools>=4.22.0 in c:\\programdata\\anaconda3\\envs\\mypackaging\\lib\\site-packages (from matplotlib>=3.4.0->python-packaging-AS25==0.1.2.dev1+geafd6a7) (4.53.0)\n",
      "Requirement already satisfied: kiwisolver>=1.3.1 in c:\\programdata\\anaconda3\\envs\\mypackaging\\lib\\site-packages (from matplotlib>=3.4.0->python-packaging-AS25==0.1.2.dev1+geafd6a7) (1.4.5)\n",
      "Requirement already satisfied: packaging>=20.0 in c:\\programdata\\anaconda3\\envs\\mypackaging\\lib\\site-packages (from matplotlib>=3.4.0->python-packaging-AS25==0.1.2.dev1+geafd6a7) (24.0)\n",
      "Requirement already satisfied: pillow>=8 in c:\\programdata\\anaconda3\\envs\\mypackaging\\lib\\site-packages (from matplotlib>=3.4.0->python-packaging-AS25==0.1.2.dev1+geafd6a7) (10.3.0)\n",
      "Requirement already satisfied: pyparsing>=2.3.1 in c:\\programdata\\anaconda3\\envs\\mypackaging\\lib\\site-packages (from matplotlib>=3.4.0->python-packaging-AS25==0.1.2.dev1+geafd6a7) (3.1.2)\n",
      "Requirement already satisfied: python-dateutil>=2.7 in c:\\programdata\\anaconda3\\envs\\mypackaging\\lib\\site-packages (from matplotlib>=3.4.0->python-packaging-AS25==0.1.2.dev1+geafd6a7) (2.9.0)\n",
      "Requirement already satisfied: pytz>=2020.1 in c:\\programdata\\anaconda3\\envs\\mypackaging\\lib\\site-packages (from pandas>=1.3.0->python-packaging-AS25==0.1.2.dev1+geafd6a7) (2024.1)\n",
      "Requirement already satisfied: tzdata>=2022.7 in c:\\programdata\\anaconda3\\envs\\mypackaging\\lib\\site-packages (from pandas>=1.3.0->python-packaging-AS25==0.1.2.dev1+geafd6a7) (2024.1)\n",
      "Requirement already satisfied: six>=1.5 in c:\\programdata\\anaconda3\\envs\\mypackaging\\lib\\site-packages (from python-dateutil>=2.7->matplotlib>=3.4.0->python-packaging-AS25==0.1.2.dev1+geafd6a7) (1.16.0)\n",
      "Building wheels for collected packages: python-packaging-AS25\n",
      "  Building editable for python-packaging-AS25 (pyproject.toml): started\n",
      "  Building editable for python-packaging-AS25 (pyproject.toml): finished with status 'done'\n",
      "  Created wheel for python-packaging-AS25: filename=python_packaging_as25-0.1.2.dev1+geafd6a7-py3-none-any.whl size=2861 sha256=617eb3e3ce65e8d93ba3cff5617a6801f2d878c91a9ae5cb0240c2531d23ac63\n",
      "  Stored in directory: C:\\Users\\as20q884\\AppData\\Local\\Temp\\pip-ephem-wheel-cache-957dfz52\\wheels\\c3\\3f\\a4\\c6f9396d4fec415a59393100b3f8549b7b9f23b0b75460db0f\n",
      "Successfully built python-packaging-AS25\n",
      "Installing collected packages: python-packaging-AS25\n",
      "  Attempting uninstall: python-packaging-AS25\n",
      "    Found existing installation: python-packaging-AS25 0.1.1\n",
      "    Uninstalling python-packaging-AS25-0.1.1:\n",
      "      Successfully uninstalled python-packaging-AS25-0.1.1\n",
      "Successfully installed python-packaging-AS25-0.1.2.dev1+geafd6a7\n"
     ]
    }
   ],
   "source": [
    "!git tag -a v0.1.1 -m \"v0.1.1\"\n",
    "!pip install -e ."
   ]
  },
  {
   "cell_type": "code",
   "execution_count": 26,
   "id": "446ce1fd-3edd-4cff-a3e2-2cb6e4ec35a3",
   "metadata": {},
   "outputs": [],
   "source": [
    "import python_packaging_as25\n",
    "from python_packaging_as25 import algos\n",
    "import numpy as np"
   ]
  },
  {
   "cell_type": "code",
   "execution_count": 10,
   "id": "925b4bb1-6bb1-4379-bd53-0d075db2fd46",
   "metadata": {},
   "outputs": [
    {
     "data": {
      "text/plain": [
       "<module 'python_packaging_as25.algos' from 'C:\\\\Users\\\\as20q884\\\\OneDrive - Universitaet Bern\\\\Desktop\\\\2024-06-10 Python packaging__on_Desktop\\\\test_package_AS25\\\\src\\\\python_packaging_as25\\\\algos.py'>"
      ]
     },
     "execution_count": 10,
     "metadata": {},
     "output_type": "execute_result"
    }
   ],
   "source": [
    "python_packaging_as25.algos"
   ]
  },
  {
   "cell_type": "code",
   "execution_count": 11,
   "id": "4be1dd65-9f64-4d15-8442-e8889dff62bd",
   "metadata": {},
   "outputs": [
    {
     "data": {
      "text/plain": [
       "'0.1.2.dev1+geafd6a7'"
      ]
     },
     "execution_count": 11,
     "metadata": {},
     "output_type": "execute_result"
    }
   ],
   "source": [
    "python_packaging_as25.__version__"
   ]
  },
  {
   "cell_type": "code",
   "execution_count": 21,
   "id": "57968628-716c-448b-8cab-32115e155f46",
   "metadata": {},
   "outputs": [
    {
     "data": {
      "text/plain": [
       "'0.1.dev4+ga9d949d'"
      ]
     },
     "execution_count": 21,
     "metadata": {},
     "output_type": "execute_result"
    }
   ],
   "source": [
    "python_packaging_as25.__version__"
   ]
  },
  {
   "cell_type": "code",
   "execution_count": 5,
   "id": "349f1e83-9246-41e4-ab6d-593c70ecfdca",
   "metadata": {},
   "outputs": [
    {
     "data": {
      "text/plain": [
       "'C:\\\\Users\\\\as20q884\\\\OneDrive - Universitaet Bern\\\\Desktop\\\\2024-06-10 Python packaging__on_Desktop\\\\test_package_AS25\\\\src\\\\python_packaging_as25\\\\__init__.py'"
      ]
     },
     "execution_count": 5,
     "metadata": {},
     "output_type": "execute_result"
    }
   ],
   "source": [
    "python_packaging_as25.__file__"
   ]
  },
  {
   "cell_type": "code",
   "execution_count": 6,
   "id": "6b3fed60-659b-4f20-9d2b-02215bce58ad",
   "metadata": {},
   "outputs": [
    {
     "name": "stdout",
     "output_type": "stream",
     "text": [
      "# conda environments:\n",
      "#\n",
      "base                     C:\\ProgramData\\anaconda3\n",
      "dslnapari                C:\\ProgramData\\anaconda3\\envs\\dslnapari\n",
      "dslskimage               C:\\ProgramData\\anaconda3\\envs\\dslskimage\n",
      "dslskimage2              C:\\ProgramData\\anaconda3\\envs\\dslskimage2\n",
      "dslskimage3              C:\\ProgramData\\anaconda3\\envs\\dslskimage3\n",
      "my_env                   C:\\ProgramData\\anaconda3\\envs\\my_env\n",
      "my_ymlenv                C:\\ProgramData\\anaconda3\\envs\\my_ymlenv\n",
      "mypackaging           *  C:\\ProgramData\\anaconda3\\envs\\mypackaging\n",
      "                         C:\\ProgramData\\miniforge3\n",
      "\n"
     ]
    }
   ],
   "source": [
    "!conda env list"
   ]
  },
  {
   "cell_type": "code",
   "execution_count": 15,
   "id": "5fc177e8-cb57-492c-b8cb-94384089a819",
   "metadata": {},
   "outputs": [
    {
     "ename": "NameError",
     "evalue": "name 'algos' is not defined",
     "output_type": "error",
     "traceback": [
      "\u001b[1;31m---------------------------------------------------------------------------\u001b[0m",
      "\u001b[1;31mNameError\u001b[0m                                 Traceback (most recent call last)",
      "Cell \u001b[1;32mIn[15], line 1\u001b[0m\n\u001b[1;32m----> 1\u001b[0m \u001b[43malgos\u001b[49m\u001b[38;5;241m.\u001b[39madd_one(\u001b[38;5;241m3\u001b[39m)\n",
      "\u001b[1;31mNameError\u001b[0m: name 'algos' is not defined"
     ]
    }
   ],
   "source": [
    "algos.add_one(3)"
   ]
  },
  {
   "cell_type": "code",
   "execution_count": 8,
   "id": "8b15c740-d6d2-4927-bd6d-a18644e66d20",
   "metadata": {},
   "outputs": [
    {
     "data": {
      "text/plain": [
       "6"
      ]
     },
     "execution_count": 8,
     "metadata": {},
     "output_type": "execute_result"
    }
   ],
   "source": [
    "algos.add_two(4)"
   ]
  },
  {
   "cell_type": "code",
   "execution_count": 17,
   "id": "ab8b5f45-62b4-4fa0-8886-6fd2beffa23b",
   "metadata": {},
   "outputs": [
    {
     "ename": "NameError",
     "evalue": "name 'algos' is not defined",
     "output_type": "error",
     "traceback": [
      "\u001b[1;31m---------------------------------------------------------------------------\u001b[0m",
      "\u001b[1;31mNameError\u001b[0m                                 Traceback (most recent call last)",
      "Cell \u001b[1;32mIn[17], line 1\u001b[0m\n\u001b[1;32m----> 1\u001b[0m \u001b[43malgos\u001b[49m\u001b[38;5;241m.\u001b[39madd_three(\u001b[38;5;241m8\u001b[39m)\n",
      "\u001b[1;31mNameError\u001b[0m: name 'algos' is not defined"
     ]
    }
   ],
   "source": [
    "algos.add_three(8)"
   ]
  },
  {
   "cell_type": "code",
   "execution_count": 23,
   "id": "3f3e878f-f313-4ed3-bff0-2b949e2939fc",
   "metadata": {},
   "outputs": [],
   "source": [
    "out = algos.add_one(1)"
   ]
  },
  {
   "cell_type": "code",
   "execution_count": 24,
   "id": "c82d433a-6637-4de1-8ca8-80fb98c988b3",
   "metadata": {},
   "outputs": [],
   "source": [
    "assert out == 2"
   ]
  },
  {
   "cell_type": "code",
   "execution_count": 27,
   "id": "8df81b26-b2bc-4ab5-b488-7f1e32d12aaf",
   "metadata": {},
   "outputs": [],
   "source": [
    "my_array = np.array([2, 3, 4])\n",
    "output = np.array([2,3,4])"
   ]
  },
  {
   "cell_type": "code",
   "execution_count": 28,
   "id": "44507a28-6a4c-4a64-8946-3b4609b191f5",
   "metadata": {},
   "outputs": [
    {
     "ename": "ValueError",
     "evalue": "The truth value of an array with more than one element is ambiguous. Use a.any() or a.all()",
     "output_type": "error",
     "traceback": [
      "\u001b[1;31m---------------------------------------------------------------------------\u001b[0m",
      "\u001b[1;31mValueError\u001b[0m                                Traceback (most recent call last)",
      "Cell \u001b[1;32mIn[28], line 2\u001b[0m\n\u001b[0;32m      1\u001b[0m my_output \u001b[38;5;241m=\u001b[39m algos\u001b[38;5;241m.\u001b[39madd_one(my_array)\n\u001b[1;32m----> 2\u001b[0m \u001b[38;5;28;01massert\u001b[39;00m \u001b[43moutput\u001b[49m\u001b[43m \u001b[49m\u001b[38;5;241;43m==\u001b[39;49m\u001b[43m \u001b[49m\u001b[43mmy_output\u001b[49m\n",
      "\u001b[1;31mValueError\u001b[0m: The truth value of an array with more than one element is ambiguous. Use a.any() or a.all()"
     ]
    }
   ],
   "source": [
    "my_output = algos.add_one(my_array)\n",
    "assert output == my_output"
   ]
  },
  {
   "cell_type": "code",
   "execution_count": null,
   "id": "6dc0f5dc-9404-40f4-b129-67667828f1c6",
   "metadata": {},
   "outputs": [],
   "source": []
  }
 ],
 "metadata": {
  "kernelspec": {
   "display_name": "Python 3 (ipykernel)",
   "language": "python",
   "name": "python3"
  },
  "language_info": {
   "codemirror_mode": {
    "name": "ipython",
    "version": 3
   },
   "file_extension": ".py",
   "mimetype": "text/x-python",
   "name": "python",
   "nbconvert_exporter": "python",
   "pygments_lexer": "ipython3",
   "version": "3.10.14"
  }
 },
 "nbformat": 4,
 "nbformat_minor": 5
}
