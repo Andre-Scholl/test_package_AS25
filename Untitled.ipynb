{
 "cells": [
  {
   "cell_type": "code",
   "execution_count": 10,
   "id": "269f03ca-8a90-4253-bd9b-1ee327c50e51",
   "metadata": {},
   "outputs": [
    {
     "name": "stdout",
     "output_type": "stream",
     "text": [
      "The autoreload extension is already loaded. To reload it, use:\n",
      "  %reload_ext autoreload\n"
     ]
    }
   ],
   "source": [
    "%load_ext autoreload\n",
    "%autoreload 2"
   ]
  },
  {
   "cell_type": "code",
   "execution_count": 11,
   "id": "446ce1fd-3edd-4cff-a3e2-2cb6e4ec35a3",
   "metadata": {},
   "outputs": [],
   "source": [
    "import python_packaging_as25"
   ]
  },
  {
   "cell_type": "code",
   "execution_count": 4,
   "id": "925b4bb1-6bb1-4379-bd53-0d075db2fd46",
   "metadata": {},
   "outputs": [
    {
     "data": {
      "text/plain": [
       "<module 'python_packaging_as25.algos' from 'C:\\\\Users\\\\as20q884\\\\OneDrive - Universitaet Bern\\\\Desktop\\\\2024-06-10 Python packaging__on_Desktop\\\\test_package_AS25\\\\src\\\\python_packaging_as25\\\\algos.py'>"
      ]
     },
     "execution_count": 4,
     "metadata": {},
     "output_type": "execute_result"
    }
   ],
   "source": [
    "python_packaging_as25.algos"
   ]
  },
  {
   "cell_type": "code",
   "execution_count": 9,
   "id": "4be1dd65-9f64-4d15-8442-e8889dff62bd",
   "metadata": {},
   "outputs": [
    {
     "data": {
      "text/plain": [
       "'0.1.dev4+ga9d949d'"
      ]
     },
     "execution_count": 9,
     "metadata": {},
     "output_type": "execute_result"
    }
   ],
   "source": [
    "python_packaging_as25.__version__"
   ]
  },
  {
   "cell_type": "code",
   "execution_count": 13,
   "id": "57968628-716c-448b-8cab-32115e155f46",
   "metadata": {},
   "outputs": [
    {
     "data": {
      "text/plain": [
       "'0.1.dev4+ga9d949d'"
      ]
     },
     "execution_count": 13,
     "metadata": {},
     "output_type": "execute_result"
    }
   ],
   "source": [
    "python_packaging_as25.__version__"
   ]
  },
  {
   "cell_type": "code",
   "execution_count": 5,
   "id": "349f1e83-9246-41e4-ab6d-593c70ecfdca",
   "metadata": {},
   "outputs": [
    {
     "data": {
      "text/plain": [
       "'C:\\\\Users\\\\as20q884\\\\OneDrive - Universitaet Bern\\\\Desktop\\\\2024-06-10 Python packaging__on_Desktop\\\\test_package_AS25\\\\src\\\\python_packaging_as25\\\\__init__.py'"
      ]
     },
     "execution_count": 5,
     "metadata": {},
     "output_type": "execute_result"
    }
   ],
   "source": [
    "python_packaging_as25.__file__"
   ]
  },
  {
   "cell_type": "code",
   "execution_count": 6,
   "id": "6b3fed60-659b-4f20-9d2b-02215bce58ad",
   "metadata": {},
   "outputs": [
    {
     "name": "stdout",
     "output_type": "stream",
     "text": [
      "# conda environments:\n",
      "#\n",
      "base                     C:\\ProgramData\\anaconda3\n",
      "dslnapari                C:\\ProgramData\\anaconda3\\envs\\dslnapari\n",
      "dslskimage               C:\\ProgramData\\anaconda3\\envs\\dslskimage\n",
      "dslskimage2              C:\\ProgramData\\anaconda3\\envs\\dslskimage2\n",
      "dslskimage3              C:\\ProgramData\\anaconda3\\envs\\dslskimage3\n",
      "my_env                   C:\\ProgramData\\anaconda3\\envs\\my_env\n",
      "my_ymlenv                C:\\ProgramData\\anaconda3\\envs\\my_ymlenv\n",
      "mypackaging           *  C:\\ProgramData\\anaconda3\\envs\\mypackaging\n",
      "                         C:\\ProgramData\\miniforge3\n",
      "\n"
     ]
    }
   ],
   "source": [
    "!conda env list"
   ]
  },
  {
   "cell_type": "code",
   "execution_count": 7,
   "id": "5fc177e8-cb57-492c-b8cb-94384089a819",
   "metadata": {},
   "outputs": [
    {
     "data": {
      "text/plain": [
       "4"
      ]
     },
     "execution_count": 7,
     "metadata": {},
     "output_type": "execute_result"
    }
   ],
   "source": [
    "algos.add_one(3)"
   ]
  },
  {
   "cell_type": "code",
   "execution_count": 8,
   "id": "8b15c740-d6d2-4927-bd6d-a18644e66d20",
   "metadata": {},
   "outputs": [
    {
     "data": {
      "text/plain": [
       "6"
      ]
     },
     "execution_count": 8,
     "metadata": {},
     "output_type": "execute_result"
    }
   ],
   "source": [
    "algos.add_two(4)"
   ]
  },
  {
   "cell_type": "code",
   "execution_count": 12,
   "id": "ab8b5f45-62b4-4fa0-8886-6fd2beffa23b",
   "metadata": {},
   "outputs": [
    {
     "data": {
      "text/plain": [
       "11"
      ]
     },
     "execution_count": 12,
     "metadata": {},
     "output_type": "execute_result"
    }
   ],
   "source": [
    "algos.add_three(8)"
   ]
  },
  {
   "cell_type": "code",
   "execution_count": null,
   "id": "3f3e878f-f313-4ed3-bff0-2b949e2939fc",
   "metadata": {},
   "outputs": [],
   "source": []
  }
 ],
 "metadata": {
  "kernelspec": {
   "display_name": "Python 3 (ipykernel)",
   "language": "python",
   "name": "python3"
  },
  "language_info": {
   "codemirror_mode": {
    "name": "ipython",
    "version": 3
   },
   "file_extension": ".py",
   "mimetype": "text/x-python",
   "name": "python",
   "nbconvert_exporter": "python",
   "pygments_lexer": "ipython3",
   "version": "3.10.14"
  }
 },
 "nbformat": 4,
 "nbformat_minor": 5
}
